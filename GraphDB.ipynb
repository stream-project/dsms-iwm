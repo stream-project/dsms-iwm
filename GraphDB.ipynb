{
 "cells": [
  {
   "cell_type": "code",
   "execution_count": 2,
   "id": "df8e3851",
   "metadata": {},
   "outputs": [],
   "source": [
    "from SPARQLWrapper import SPARQLWrapper, JSON, CSV\n",
    "import pandas as pd"
   ]
  },
  {
   "cell_type": "code",
   "execution_count": 3,
   "id": "d428397e",
   "metadata": {},
   "outputs": [],
   "source": [
    "# Method for executing and printing the query\n",
    "def start_query():\n",
    "    try:\n",
    "        # start querie and conversion\n",
    "        ret = sparql.queryAndConvert()\n",
    "\n",
    "        # bring result to pandas df\n",
    "        df = pd.json_normalize(ret[\"results\"][\"bindings\"])\n",
    "\n",
    "        # format df\n",
    "        col_names=df.columns.values #get column names\n",
    "        col_values = [] #create list for relevant columns\n",
    "        for i in col_names:\n",
    "            if \"value\" in i:   #filter for column names with value in the name (this are the relevant)\n",
    "                col_values.append(i) #add to the created list\n",
    "        sparql_result = df[col_values] #new df with just the relevant columns\n",
    "\n",
    "        print(sparql_result)\n",
    "\n",
    "    except:\n",
    "        print(\"except\")"
   ]
  },
  {
   "cell_type": "code",
   "execution_count": 12,
   "id": "e0e0bb9b",
   "metadata": {},
   "outputs": [
    {
     "name": "stdout",
     "output_type": "stream",
     "text": [
      "                         material_name_instance.value material_name.value\n",
      "0   https://stream-projekt.net/ea2b3bdd5ced355cbcc...            AlSi10Mg\n",
      "1   https://stream-projekt.net/ce82267cc22098ad4d2...            AlSi10Mg\n",
      "2   https://stream-projekt.net/9f282f00ec2b1bab5f1...            AlSi10Mg\n",
      "3   https://stream-projekt.net/9d844b98be3f07c0a10...            AlSi10Mg\n",
      "4   https://stream-projekt.net/cb301f72272314352ef...            AlSi10Mg\n",
      "5   https://stream-projekt.net/407cef7c4c33fc19b18...            AlSi10Mg\n",
      "6   https://stream-projekt.net/7b1e087edee81627af4...            AlSi10Mg\n",
      "7   https://stream-projekt.net/f015c338bbb8162d903...            AlSi10Mg\n",
      "8   https://stream-projekt.net/579ce1683043a333051...            AlSi10Mg\n",
      "9   https://stream-projekt.net/d65e9f5966bd5ae1439...            AlSi10Mg\n",
      "10  https://stream-projekt.net/5fbb6d44c38f95a5c5e...            AlSi10Mg\n",
      "11  https://stream-projekt.net/8c9132ab9e86d3ae617...            AlSi10Mg\n",
      "12  https://stream-projekt.net/f3fe5269379c6a72e03...            AlSi10Mg\n",
      "13  https://stream-projekt.net/f19cbb7464b4898af7a...            AlSi10Mg\n",
      "14  https://stream-projekt.net/4c8f6f3aed12f8cef76...            AlSi10Mg\n",
      "15  https://stream-projekt.net/e631b8dcffe87f1fb57...            AlSi10Mg\n"
     ]
    }
   ],
   "source": [
    "sparql = SPARQLWrapper(\n",
    "    \"http://vm188067-l3s.hosting.uni-hannover.de:7200/repositories/Dsms\"\n",
    ")\n",
    "sparql.setReturnFormat(JSON)\n",
    "\n",
    "sparql.setQuery(\"\"\"\n",
    "        PREFIX rdf: <http://www.w3.org/1999/02/22-rdf-syntax-ns#>\n",
    "        PREFIX owl: <http://www.w3.org/2002/07/owl#>\n",
    "        PREFIX matvoc: <http://stream-ontology.com/matvoc-core/>\n",
    "\n",
    "        select ?material_name_instance ?material_name where { \n",
    "            ?material_name_instance rdf:type matvoc:Formula;\n",
    "                    ?data_property ?material_name.\n",
    "            ?data_property rdf:type owl:DatatypeProperty.\n",
    "        }  \n",
    "    \"\"\"\n",
    ")\n",
    "\n",
    "start_query()"
   ]
  },
  {
   "cell_type": "markdown",
   "id": "c0bc0f75",
   "metadata": {},
   "source": [
    "# 1. Tensile Test"
   ]
  },
  {
   "cell_type": "markdown",
   "id": "cfee60bf",
   "metadata": {},
   "source": [
    "## 1.1 What is the measured \"Maximum Tensile Strength\" of the given material \"AlSi10Mg\"?\n",
    "\n",
    "Querying for a MeasuredQuantitativeProperty of a specific Measurement (Filtered by known TestID or unique Material). All given values, no calculation or aggregation needed.\n",
    "\n",
    "todo Einheit einfügen"
   ]
  },
  {
   "cell_type": "code",
   "execution_count": 27,
   "id": "94ddfe2a",
   "metadata": {},
   "outputs": [
    {
     "name": "stdout",
     "output_type": "stream",
     "text": [
      "  tensile_strength.value material_name.value\n",
      "0               2.01e+02            AlSi10Mg\n"
     ]
    }
   ],
   "source": [
    "sparql = SPARQLWrapper(\n",
    "    \"http://vm188067-l3s.hosting.uni-hannover.de:7200/repositories/Dsms\"\n",
    ")\n",
    "sparql.setReturnFormat(JSON)\n",
    "\n",
    "sparql.setQuery(\"\"\"\n",
    "        PREFIX rdf: <http://www.w3.org/1999/02/22-rdf-syntax-ns#>\n",
    "        PREFIX owl: <http://www.w3.org/2002/07/owl#>\n",
    "        PREFIX matvoc: <http://stream-ontology.com/matvoc-core/>\n",
    "        PREFIX mech: <http://emmo.info/emmo/domain/mechanical-testing#>\n",
    "        PREFIX emmo: <http://emmo.info/emmo#>\n",
    "        PREFIX skos: <http://www.w3.org/2004/02/skos/core#>\n",
    "\n",
    "        select ?tensile_strength ?material_name where { \n",
    "        \n",
    "        ?tensile_strength_instance rdf:type mech:EMMO_926d14c7_4f78_4c37_99b4_dfb0a531db64; \n",
    "            emmo:EMMO_8ef3cd6d_ae58_4a8d_9fc0_ad8f49015cd0 ?value_instance.\n",
    "        ?value_instance emmo:EMMO_faf79f53_749d_40b2_807c_d34244c192f4 ?tensile_strength .\n",
    "        \n",
    "        ?measurement_instance emmo:hasMeasurementResult ?tensile_strength_instance ;\n",
    "            emmo:hasProcessInput ?specimen_instance .\n",
    "        \n",
    "        ?specimen_instance emmo:EMMO_e1097637_70d2_4895_973f_2396f04fa204 ?material_name_instance .\n",
    "        \n",
    "        ?material_name_instance rdf:type mech:EMMO_71200c24_44fe_4533_96be_55ecb299681c ;\n",
    "            emmo:EMMO_23b579e1_8088_45b5_9975_064014026c42 ?material_name .\n",
    "        \n",
    "        FILTER(?material_name = \"AlSi10Mg\")\n",
    "        \n",
    "        \n",
    "        } \n",
    "        ORDER BY DESC(?tensile_strength) \n",
    "        LIMIT 1\n",
    "    \"\"\"\n",
    ")\n",
    "\n",
    "start_query()"
   ]
  },
  {
   "cell_type": "markdown",
   "id": "7ebe9ac0",
   "metadata": {},
   "source": [
    "## 1.2 What is the maximum measured \"Tensile Strength\" of a specific \"AlSi10Mg\" sample?\n",
    "Querying for a MeasuredQuantitativeProperty out of all tested specimens made of a specific Material. Aggregate for the maximum value.\n"
   ]
  },
  {
   "cell_type": "markdown",
   "id": "07ef3345",
   "metadata": {},
   "source": [
    "Search for ID --> ARI_Al15_S2_Z"
   ]
  },
  {
   "cell_type": "markdown",
   "id": "2cc90a6c",
   "metadata": {},
   "source": [
    "## 1.3 Which Material has the highest measured Value Rp02?\n",
    "Querying for a MeasuredQuantitativeProperty out of all entrys in the database. Aggregate for the maximum value."
   ]
  },
  {
   "cell_type": "code",
   "execution_count": 29,
   "id": "4db477a8",
   "metadata": {},
   "outputs": [
    {
     "name": "stdout",
     "output_type": "stream",
     "text": [
      "  material_name.value rp02.value\n",
      "0            AlSi10Mg   1.42e+02\n"
     ]
    }
   ],
   "source": [
    "sparql = SPARQLWrapper(\n",
    "    \"http://vm188067-l3s.hosting.uni-hannover.de:7200/repositories/Dsms\"\n",
    ")\n",
    "sparql.setReturnFormat(JSON)\n",
    "\n",
    "sparql.setQuery(\"\"\"\n",
    "        PREFIX rdf: <http://www.w3.org/1999/02/22-rdf-syntax-ns#>\n",
    "        PREFIX owl: <http://www.w3.org/2002/07/owl#>\n",
    "        PREFIX matvoc: <http://stream-ontology.com/matvoc-core/>\n",
    "        PREFIX mech: <http://emmo.info/emmo/domain/mechanical-testing#>\n",
    "        PREFIX emmo: <http://emmo.info/emmo#>\n",
    "        PREFIX skos: <http://www.w3.org/2004/02/skos/core#>\n",
    "\n",
    "        select ?material_name ?rp02 where { \n",
    "        \n",
    "        ?rp02_instance rdf:type mech:EMMO_44c9b071_54a1_4366_84e4_b14b055ec633; \n",
    "            emmo:EMMO_8ef3cd6d_ae58_4a8d_9fc0_ad8f49015cd0 ?value_instance.\n",
    "        ?value_instance emmo:EMMO_faf79f53_749d_40b2_807c_d34244c192f4 ?rp02 .\n",
    "        \n",
    "        ?measurement_instance emmo:hasMeasurementResult ?rp02_instance ;\n",
    "            emmo:hasProcessInput ?specimen_instance .\n",
    "        \n",
    "        ?specimen_instance emmo:EMMO_e1097637_70d2_4895_973f_2396f04fa204 ?material_name_instance .\n",
    "        \n",
    "        ?material_name_instance rdf:type mech:EMMO_71200c24_44fe_4533_96be_55ecb299681c ;\n",
    "            emmo:EMMO_23b579e1_8088_45b5_9975_064014026c42 ?material_name .\n",
    "        \n",
    "\n",
    "        \n",
    "        \n",
    "        } \n",
    "        ORDER BY DESC(?rp02) \n",
    "        LIMIT 1\n",
    "        \n",
    "    \"\"\"\n",
    ")\n",
    "\n",
    "start_query()"
   ]
  },
  {
   "cell_type": "markdown",
   "id": "53d19167",
   "metadata": {},
   "source": [
    "## 1.4 Which datasets that have \"Tensile Strength\" values between the range X and Y?\n",
    "Querying for all Dataset with a MeasuredQuantitativeProperty in a specific range.\n",
    "\n",
    "todo --> Yizhen how are metadata and data linked"
   ]
  },
  {
   "cell_type": "code",
   "execution_count": 11,
   "id": "63571959",
   "metadata": {},
   "outputs": [
    {
     "name": "stdout",
     "output_type": "stream",
     "text": [
      "                              dataset_instance.value tensile_strength.value\n",
      "0  https://stream-projekt.net/f3fe5269379c6a72e03...               1.86e+02\n",
      "1  https://stream-projekt.net/ce82267cc22098ad4d2...               1.87e+02\n",
      "2  https://stream-projekt.net/4c8f6f3aed12f8cef76...               1.89e+02\n",
      "3  https://stream-projekt.net/8c9132ab9e86d3ae617...               1.92e+02\n",
      "4  https://stream-projekt.net/9d844b98be3f07c0a10...               1.94e+02\n",
      "5  https://stream-projekt.net/d65e9f5966bd5ae1439...               1.94e+02\n",
      "6  https://stream-projekt.net/cb301f72272314352ef...               1.96e+02\n",
      "7  https://stream-projekt.net/f015c338bbb8162d903...               1.96e+02\n",
      "8  https://stream-projekt.net/7b1e087edee81627af4...               1.98e+02\n",
      "9  https://stream-projekt.net/ea2b3bdd5ced355cbcc...               1.99e+02\n"
     ]
    }
   ],
   "source": [
    "sparql = SPARQLWrapper(\n",
    "    \"http://vm188067-l3s.hosting.uni-hannover.de:7200/repositories/Dsms\"\n",
    ")\n",
    "sparql.setReturnFormat(JSON)\n",
    "\n",
    "sparql.setQuery(\"\"\"\n",
    "        PREFIX rdf: <http://www.w3.org/1999/02/22-rdf-syntax-ns#>\n",
    "        PREFIX owl: <http://www.w3.org/2002/07/owl#>\n",
    "        PREFIX matvoc: <http://stream-ontology.com/matvoc-core/>\n",
    "        PREFIX mech: <http://emmo.info/emmo/domain/mechanical-testing#>\n",
    "        PREFIX emmo: <http://emmo.info/emmo#>\n",
    "        PREFIX skos: <http://www.w3.org/2004/02/skos/core#>\n",
    "        PREFIX tensile: <http://emmo.info/application/tensiletest-ontology#>\n",
    "\n",
    "        select ?dataset_instance ?tensile_strength where { \n",
    "        \n",
    "        ?dataset_instance rdf:type emmo:EMMO_194e367c_9783_4bf5_96d0_9ad597d48d9a ;\n",
    "            emmo:EMMO_b2282816_b7a3_44c6_b2cb_3feff1ceb7fe ?tensile_strength_instance .\n",
    "        \n",
    "        ?tensile_strength_instance rdf:type mech:EMMO_926d14c7_4f78_4c37_99b4_dfb0a531db64; \n",
    "            emmo:EMMO_8ef3cd6d_ae58_4a8d_9fc0_ad8f49015cd0 ?value_instance.\n",
    "        ?value_instance emmo:EMMO_faf79f53_749d_40b2_807c_d34244c192f4 ?tensile_strength .\n",
    "        \n",
    "        FILTER(?tensile_strength < 200 && ?tensile_strength > 180)\n",
    "        \n",
    "        } \n",
    "        \n",
    "    \"\"\"\n",
    ")\n",
    "\n",
    "start_query()"
   ]
  },
  {
   "cell_type": "markdown",
   "id": "2f98d0a4",
   "metadata": {},
   "source": [
    "## 1.5 How many datasets .... properties ... values?"
   ]
  },
  {
   "cell_type": "markdown",
   "id": "5c5d6226",
   "metadata": {},
   "source": [
    "# 2. Hardness Test"
   ]
  },
  {
   "cell_type": "markdown",
   "id": "457dee63",
   "metadata": {},
   "source": [
    "## 2.1 Which datasets that have \"Hardness\" (Vickers/Brinell/Knoop/Rockwell) values between the range X and Y?\n",
    "Querying for Datasets with MeasuredQuantitativeProperty of a specific ProcedureUnit between a specifc range"
   ]
  },
  {
   "cell_type": "code",
   "execution_count": null,
   "id": "97867c5e",
   "metadata": {},
   "outputs": [],
   "source": []
  },
  {
   "cell_type": "markdown",
   "id": "00ed0cac",
   "metadata": {},
   "source": [
    "## 2.2 How many datasets of the material \"X\" have more than only one Hardness-Type (Vickers/Brinell/Knoop/Rockwell) values?\n",
    "Count of Datasets of a specific EngineeredMaterial with more than one ProcedureUnit for Hardness\n"
   ]
  },
  {
   "cell_type": "code",
   "execution_count": null,
   "id": "baa41bcb",
   "metadata": {},
   "outputs": [],
   "source": []
  },
  {
   "cell_type": "markdown",
   "id": "edf2c07f",
   "metadata": {},
   "source": [
    "# 0 Gerneral Questions"
   ]
  },
  {
   "cell_type": "markdown",
   "id": "160792de",
   "metadata": {},
   "source": [
    "## 0.1 Where are the \"Data\" for the \"Test\" with the given \"ID: xyz\"?\n",
    "Querying for the StoragePath of a Dataset of a specific Measurement with the TestID \"Test123\""
   ]
  },
  {
   "cell_type": "code",
   "execution_count": null,
   "id": "18ea6ed9",
   "metadata": {},
   "outputs": [],
   "source": []
  },
  {
   "cell_type": "markdown",
   "id": "3bcea976",
   "metadata": {},
   "source": [
    "## 0.2  Which Materials where tested yet? (with respect to the specific test type TENSILE TEST)\n",
    "Querying a list of all EngineeredMaterials of a specific Measreuement Subclass"
   ]
  },
  {
   "cell_type": "markdown",
   "id": "9266ca0d",
   "metadata": {},
   "source": [
    "### Matvoc based"
   ]
  },
  {
   "cell_type": "code",
   "execution_count": 31,
   "id": "41e6a51f",
   "metadata": {},
   "outputs": [
    {
     "name": "stdout",
     "output_type": "stream",
     "text": [
      "  measurement_class_label.value material_name.value\n",
      "0                   TensileTest            AlSi10Mg\n"
     ]
    }
   ],
   "source": [
    "sparql = SPARQLWrapper(\n",
    "    \"http://vm188067-l3s.hosting.uni-hannover.de:7200/repositories/Dsms\"\n",
    ")\n",
    "sparql.setReturnFormat(JSON)\n",
    "\n",
    "sparql.setQuery(\"\"\"\n",
    "\n",
    "        PREFIX owl: <http://www.w3.org/2002/07/owl#>\n",
    "        PREFIX matvoc: <http://stream-ontology.com/matvoc-core/>\n",
    "        PREFIX rdfs: <http://www.w3.org/2000/01/rdf-schema#>\n",
    "        PREFIX skos: <http://www.w3.org/2004/02/skos/core#>\n",
    "        PREFIX rdf: <http://www.w3.org/1999/02/22-rdf-syntax-ns#>\n",
    "        PREFIX oboe: <http://ecoinformatics.org/oboe/oboe.1.2/oboe-core.owl#>\n",
    "        PREFIX emmo: <http://emmo.info/emmo#>\n",
    "        \n",
    "        select ?measurement_class_label (sample(?material_name) as ?material_name) where { \n",
    "           ?measurement_class rdfs:subClassOf oboe:Measurement ;\n",
    "               skos:prefLabel ?measurement_class_label .\n",
    "           ?measurement_instance rdf:type ?measurement_class ;\n",
    "               ?hasProcessInput_variable ?specimen_instance .\n",
    "           ?specimen_instance emmo:EMMO_e1097637_70d2_4895_973f_2396f04fa204 ?material_name_instance .\n",
    "        #  ?hasProperty_variable rdf:type owl:ObjectProperty .\n",
    "           ?material_name_instance rdf:type matvoc:Formula;\n",
    "               ?data_property ?material_name.\n",
    "           ?data_property rdf:type owl:DatatypeProperty.\n",
    "           FILTER (?measurement_class_label != \"Measurement\"@en )\n",
    "        } GROUP BY ?measurement_class_label\n",
    "    \"\"\"\n",
    ") \n",
    "\n",
    "start_query()"
   ]
  },
  {
   "cell_type": "code",
   "execution_count": null,
   "id": "8d7479d9",
   "metadata": {},
   "outputs": [],
   "source": []
  },
  {
   "cell_type": "markdown",
   "id": "b32cb155",
   "metadata": {},
   "source": [
    "## 0.3 Which datasets test a specimens that has the material X as part of their composition?\n",
    "Querying a Dataset of a Specimen that is made of an Alloy with MassConcentration of a specific Material"
   ]
  },
  {
   "cell_type": "code",
   "execution_count": 64,
   "id": "9f541926",
   "metadata": {},
   "outputs": [
    {
     "name": "stdout",
     "output_type": "stream",
     "text": [
      "                               dataset_instance.value material_name.value\n",
      "0   https://stream-projekt.net/ea2b3bdd5ced355cbcc...            AlSi10Mg\n",
      "1   https://stream-projekt.net/ce82267cc22098ad4d2...            AlSi10Mg\n",
      "2   https://stream-projekt.net/9f282f00ec2b1bab5f1...            AlSi10Mg\n",
      "3   https://stream-projekt.net/9d844b98be3f07c0a10...            AlSi10Mg\n",
      "4   https://stream-projekt.net/cb301f72272314352ef...            AlSi10Mg\n",
      "5   https://stream-projekt.net/407cef7c4c33fc19b18...            AlSi10Mg\n",
      "6   https://stream-projekt.net/7b1e087edee81627af4...            AlSi10Mg\n",
      "7   https://stream-projekt.net/f015c338bbb8162d903...            AlSi10Mg\n",
      "8   https://stream-projekt.net/579ce1683043a333051...            AlSi10Mg\n",
      "9   https://stream-projekt.net/d65e9f5966bd5ae1439...            AlSi10Mg\n",
      "10  https://stream-projekt.net/5fbb6d44c38f95a5c5e...            AlSi10Mg\n",
      "11  https://stream-projekt.net/8c9132ab9e86d3ae617...            AlSi10Mg\n",
      "12  https://stream-projekt.net/f3fe5269379c6a72e03...            AlSi10Mg\n",
      "13  https://stream-projekt.net/f19cbb7464b4898af7a...            AlSi10Mg\n",
      "14  https://stream-projekt.net/4c8f6f3aed12f8cef76...            AlSi10Mg\n",
      "15  https://stream-projekt.net/e631b8dcffe87f1fb57...            AlSi10Mg\n"
     ]
    }
   ],
   "source": [
    "sparql = SPARQLWrapper(\n",
    "    \"http://vm188067-l3s.hosting.uni-hannover.de:7200/repositories/Dsms\"\n",
    ")\n",
    "sparql.setReturnFormat(JSON)\n",
    "\n",
    "sparql.setQuery(\"\"\"\n",
    "        PREFIX rdf: <http://www.w3.org/1999/02/22-rdf-syntax-ns#>\n",
    "        PREFIX owl: <http://www.w3.org/2002/07/owl#>\n",
    "        PREFIX matvoc: <http://stream-ontology.com/matvoc-core/>\n",
    "        PREFIX mech: <http://emmo.info/emmo/domain/mechanical-testing#>\n",
    "        PREFIX emmo: <http://emmo.info/emmo#>\n",
    "        PREFIX skos: <http://www.w3.org/2004/02/skos/core#>\n",
    "        PREFIX tensile: <http://emmo.info/application/tensiletest-ontology#>\n",
    "\n",
    "        select ?dataset_instance ?material_name where { \n",
    "        ?measurement_instance rdf:type emmo:EMMO_463bcfda_867b_41d9_a967_211d4d437cfb ;\n",
    "            emmo:EMMO_c4bace1d_4db0_4cd3_87e9_18122bae2840 ?dataset_instance ;\n",
    "            emmo:hasProcessInput ?specimen_instance .\n",
    "        ?dataset_instance rdf:type emmo:EMMO_194e367c_9783_4bf5_96d0_9ad597d48d9a .\n",
    "               \n",
    "        ?specimen_instance emmo:EMMO_e1097637_70d2_4895_973f_2396f04fa204 ?material_name_instance  .\n",
    "        ?material_name_instance rdf:type matvoc:Formula;\n",
    "               emmo:EMMO_23b579e1_8088_45b5_9975_064014026c42 ?material_name .\n",
    "        \n",
    "        FILTER regex(str(?material_name), \"al\", \"i\")\n",
    "        FILTER regex(str(?material_name), \"si\", \"i\")\n",
    "        } \n",
    "        \n",
    "    \"\"\"\n",
    ")\n",
    "\n",
    "start_query()"
   ]
  },
  {
   "cell_type": "markdown",
   "id": "ab26b97f",
   "metadata": {},
   "source": [
    "## 0.4 Which datasets were conducted using machine X?\n",
    "Querying a Dataset whose Measurement was conducted using a specific Machine \"X\"\n"
   ]
  },
  {
   "cell_type": "code",
   "execution_count": 71,
   "id": "749e0abe",
   "metadata": {},
   "outputs": [
    {
     "name": "stdout",
     "output_type": "stream",
     "text": [
      "                           measurement_instance.value  \\\n",
      "0   https://stream-projekt.net/ea2b3bdd5ced355cbcc...   \n",
      "1   https://stream-projekt.net/ce82267cc22098ad4d2...   \n",
      "2   https://stream-projekt.net/9f282f00ec2b1bab5f1...   \n",
      "3   https://stream-projekt.net/9d844b98be3f07c0a10...   \n",
      "4   https://stream-projekt.net/cb301f72272314352ef...   \n",
      "5   https://stream-projekt.net/407cef7c4c33fc19b18...   \n",
      "6   https://stream-projekt.net/7b1e087edee81627af4...   \n",
      "7   https://stream-projekt.net/f015c338bbb8162d903...   \n",
      "8   https://stream-projekt.net/579ce1683043a333051...   \n",
      "9   https://stream-projekt.net/d65e9f5966bd5ae1439...   \n",
      "10  https://stream-projekt.net/5fbb6d44c38f95a5c5e...   \n",
      "11  https://stream-projekt.net/8c9132ab9e86d3ae617...   \n",
      "12  https://stream-projekt.net/f3fe5269379c6a72e03...   \n",
      "13  https://stream-projekt.net/f19cbb7464b4898af7a...   \n",
      "14  https://stream-projekt.net/4c8f6f3aed12f8cef76...   \n",
      "15  https://stream-projekt.net/e631b8dcffe87f1fb57...   \n",
      "\n",
      "                               dataset_instance.value  \\\n",
      "0   https://stream-projekt.net/ea2b3bdd5ced355cbcc...   \n",
      "1   https://stream-projekt.net/ce82267cc22098ad4d2...   \n",
      "2   https://stream-projekt.net/9f282f00ec2b1bab5f1...   \n",
      "3   https://stream-projekt.net/9d844b98be3f07c0a10...   \n",
      "4   https://stream-projekt.net/cb301f72272314352ef...   \n",
      "5   https://stream-projekt.net/407cef7c4c33fc19b18...   \n",
      "6   https://stream-projekt.net/7b1e087edee81627af4...   \n",
      "7   https://stream-projekt.net/f015c338bbb8162d903...   \n",
      "8   https://stream-projekt.net/579ce1683043a333051...   \n",
      "9   https://stream-projekt.net/d65e9f5966bd5ae1439...   \n",
      "10  https://stream-projekt.net/5fbb6d44c38f95a5c5e...   \n",
      "11  https://stream-projekt.net/8c9132ab9e86d3ae617...   \n",
      "12  https://stream-projekt.net/f3fe5269379c6a72e03...   \n",
      "13  https://stream-projekt.net/f19cbb7464b4898af7a...   \n",
      "14  https://stream-projekt.net/4c8f6f3aed12f8cef76...   \n",
      "15  https://stream-projekt.net/e631b8dcffe87f1fb57...   \n",
      "\n",
      "                measurement_instrument_instance.value  \n",
      "0   https://stream-projekt.net/ea2b3bdd5ced355cbcc...  \n",
      "1   https://stream-projekt.net/ce82267cc22098ad4d2...  \n",
      "2   https://stream-projekt.net/9f282f00ec2b1bab5f1...  \n",
      "3   https://stream-projekt.net/9d844b98be3f07c0a10...  \n",
      "4   https://stream-projekt.net/cb301f72272314352ef...  \n",
      "5   https://stream-projekt.net/407cef7c4c33fc19b18...  \n",
      "6   https://stream-projekt.net/7b1e087edee81627af4...  \n",
      "7   https://stream-projekt.net/f015c338bbb8162d903...  \n",
      "8   https://stream-projekt.net/579ce1683043a333051...  \n",
      "9   https://stream-projekt.net/d65e9f5966bd5ae1439...  \n",
      "10  https://stream-projekt.net/5fbb6d44c38f95a5c5e...  \n",
      "11  https://stream-projekt.net/8c9132ab9e86d3ae617...  \n",
      "12  https://stream-projekt.net/f3fe5269379c6a72e03...  \n",
      "13  https://stream-projekt.net/f19cbb7464b4898af7a...  \n",
      "14  https://stream-projekt.net/4c8f6f3aed12f8cef76...  \n",
      "15  https://stream-projekt.net/e631b8dcffe87f1fb57...  \n"
     ]
    }
   ],
   "source": [
    "sparql = SPARQLWrapper(\n",
    "    \"http://vm188067-l3s.hosting.uni-hannover.de:7200/repositories/Dsms\"\n",
    ")\n",
    "sparql.setReturnFormat(JSON)\n",
    "\n",
    "sparql.setQuery(\"\"\"\n",
    "        PREFIX rdf: <http://www.w3.org/1999/02/22-rdf-syntax-ns#>\n",
    "        PREFIX owl: <http://www.w3.org/2002/07/owl#>\n",
    "        PREFIX matvoc: <http://stream-ontology.com/matvoc-core/>\n",
    "        PREFIX mech: <http://emmo.info/emmo/domain/mechanical-testing#>\n",
    "        PREFIX emmo: <http://emmo.info/emmo#>\n",
    "        PREFIX skos: <http://www.w3.org/2004/02/skos/core#>\n",
    "        PREFIX tensile: <http://emmo.info/application/tensiletest-ontology#>\n",
    "\n",
    "        select * where { \n",
    "        ?measurement_instance rdf:type emmo:EMMO_463bcfda_867b_41d9_a967_211d4d437cfb ;\n",
    "            emmo:EMMO_c4bace1d_4db0_4cd3_87e9_18122bae2840 ?dataset_instance ;\n",
    "            emmo:EMMO_ae2d1a96_bfa1_409a_a7d2_03d69e8a125a ?measurement_instrument_instance .\n",
    "              \n",
    "        ?dataset_instance rdf:type emmo:EMMO_194e367c_9783_4bf5_96d0_9ad597d48d9a .\n",
    "               \n",
    "#        ?measurement_instrument_instance rdf:type ?measurement_instrument_class .\n",
    "#        ?measurement_instrument_class skos:prefLabel ?measurement_instrument_label .\n",
    "        \n",
    "       \n",
    "        } \n",
    "        \n",
    "    \"\"\"\n",
    ")\n",
    "\n",
    "start_query()"
   ]
  },
  {
   "cell_type": "markdown",
   "id": "6507c1fb",
   "metadata": {},
   "source": [
    "## ~0.5 Which datasets test a specimens that has the material X as part of their composition in the concentration range from Y% to Z%?~"
   ]
  }
 ],
 "metadata": {
  "kernelspec": {
   "display_name": "graphdb-env",
   "language": "python",
   "name": "graphdb-env"
  },
  "language_info": {
   "codemirror_mode": {
    "name": "ipython",
    "version": 3
   },
   "file_extension": ".py",
   "mimetype": "text/x-python",
   "name": "python",
   "nbconvert_exporter": "python",
   "pygments_lexer": "ipython3",
   "version": "3.10.6"
  }
 },
 "nbformat": 4,
 "nbformat_minor": 5
}
