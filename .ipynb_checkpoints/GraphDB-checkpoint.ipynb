{
 "cells": [
  {
   "cell_type": "code",
   "execution_count": 1,
   "id": "df8e3851",
   "metadata": {},
   "outputs": [],
   "source": [
    "from SPARQLWrapper import SPARQLWrapper, JSON"
   ]
  },
  {
   "cell_type": "code",
   "execution_count": 2,
   "id": "89c1e735",
   "metadata": {},
   "outputs": [
    {
     "name": "stdout",
     "output_type": "stream",
     "text": [
      "Query successfull\n",
      "try\n",
      "convert\n",
      "{'material_name_instance': {'type': 'uri', 'value': 'https://stream-projekt.net/ea2b3bdd5ced355cbcc986c696003ce6507a3d4fdbe9213fd48608f471bdb1c5#ShortName'}}\n",
      "{'material_name_instance': {'type': 'uri', 'value': 'https://stream-projekt.net/ce82267cc22098ad4d290a14ef1a4bc1c90ef69da35afd2353e9f9431d192a72#ShortName'}}\n",
      "{'material_name_instance': {'type': 'uri', 'value': 'https://stream-projekt.net/9f282f00ec2b1bab5f1f64736d51c858732f4de14b905100c5feeeb277f4d3f5#ShortName'}}\n",
      "{'material_name_instance': {'type': 'uri', 'value': 'https://stream-projekt.net/9d844b98be3f07c0a10df59c9a2876359401857f8c2b766adbde94eabba2e23d#ShortName'}}\n",
      "{'material_name_instance': {'type': 'uri', 'value': 'https://stream-projekt.net/cb301f72272314352ef709f8fd860222f8d73b38974881194342c02169383c93#ShortName'}}\n",
      "{'material_name_instance': {'type': 'uri', 'value': 'https://stream-projekt.net/407cef7c4c33fc19b18fbcaacb63b1b5a54e2f3c9464aa1ab7f571d375de7181#ShortName'}}\n",
      "{'material_name_instance': {'type': 'uri', 'value': 'https://stream-projekt.net/7b1e087edee81627af44639c589546eb6dbcd37e81927184cb711e4bdaaae211#ShortName'}}\n",
      "{'material_name_instance': {'type': 'uri', 'value': 'https://stream-projekt.net/f015c338bbb8162d903957afbe6d1910894a3b6e966cbc66cc972de9a8647231#ShortName'}}\n",
      "{'material_name_instance': {'type': 'uri', 'value': 'https://stream-projekt.net/579ce1683043a333051fd3f16b041ff3720852ac17a9aa0af8858e5eba646653#ShortName'}}\n",
      "{'material_name_instance': {'type': 'uri', 'value': 'https://stream-projekt.net/d65e9f5966bd5ae14395d12f3cdec5741d05e0bade5ad9765b32f1547cb459c4#ShortName'}}\n",
      "{'material_name_instance': {'type': 'uri', 'value': 'https://stream-projekt.net/5fbb6d44c38f95a5c5e8da67748561a3230944bc1838d3bf8b9c063fd2ca365b#ShortName'}}\n",
      "{'material_name_instance': {'type': 'uri', 'value': 'https://stream-projekt.net/8c9132ab9e86d3ae6174bdd2b7141821272c76150187092a48dbb3d1b03f2bae#ShortName'}}\n",
      "{'material_name_instance': {'type': 'uri', 'value': 'https://stream-projekt.net/f3fe5269379c6a72e03e08817fbc4cdafbb17d0d92d810f38098d844da48497a#ShortName'}}\n",
      "{'material_name_instance': {'type': 'uri', 'value': 'https://stream-projekt.net/f19cbb7464b4898af7a920e975fb6729310a81acf03c463710eae4964e8c1d75#ShortName'}}\n",
      "{'material_name_instance': {'type': 'uri', 'value': 'https://stream-projekt.net/4c8f6f3aed12f8cef765cda843001d7e04f17eb3e62a8aea7e7ec7b5920c2733#ShortName'}}\n",
      "{'material_name_instance': {'type': 'uri', 'value': 'https://stream-projekt.net/e631b8dcffe87f1fb57adee1a0d430b35886c7a6712c3a8f37f2694c6f4461a0#ShortName'}}\n"
     ]
    }
   ],
   "source": [
    "sparql = SPARQLWrapper(\n",
    "    \"http://vm188067-l3s.hosting.uni-hannover.de:7200/repositories/Dsms\"\n",
    ")\n",
    "sparql.setReturnFormat(JSON)\n",
    "\n",
    "# gets the first 3 geological ages\n",
    "# from a Geological Timescale database,\n",
    "# via a SPARQL endpoint\n",
    "sparql.setQuery(\"\"\"\n",
    "        PREFIX rdf: <http://www.w3.org/1999/02/22-rdf-syntax-ns#>\n",
    "        PREFIX owl: <http://www.w3.org/2002/07/owl#>\n",
    "        PREFIX matvoc: <http://stream-ontology.com/matvoc-core/>\n",
    "\n",
    "        select ?material_name_instance  where { \n",
    "            ?material_name_instance rdf:type matvoc:Formula;\n",
    "                    ?data_property ?material_name.\n",
    "            ?data_property rdf:type owl:DatatypeProperty.\n",
    "        } limit 100 \n",
    "    \"\"\"\n",
    ")\n",
    "print(\"Query successfull\")\n",
    "\n",
    "try:\n",
    "    print(\"try\")\n",
    "    ret = sparql.queryAndConvert()\n",
    "    print(\"convert\")\n",
    "    for r in ret[\"results\"][\"bindings\"]:\n",
    "        print(r)\n",
    "except:\n",
    "    print(\"except\")"
   ]
  },
  {
   "cell_type": "code",
   "execution_count": 4,
   "id": "50001dbe",
   "metadata": {},
   "outputs": [
    {
     "name": "stdout",
     "output_type": "stream",
     "text": [
      "Query successfull\n",
      "try\n",
      "convert\n",
      "{'material_name_instance': {'type': 'uri', 'value': 'https://stream-projekt.net/ea2b3bdd5ced355cbcc986c696003ce6507a3d4fdbe9213fd48608f471bdb1c5#ShortName'}}\n",
      "{'material_name_instance': {'type': 'uri', 'value': 'https://stream-projekt.net/ce82267cc22098ad4d290a14ef1a4bc1c90ef69da35afd2353e9f9431d192a72#ShortName'}}\n",
      "{'material_name_instance': {'type': 'uri', 'value': 'https://stream-projekt.net/9f282f00ec2b1bab5f1f64736d51c858732f4de14b905100c5feeeb277f4d3f5#ShortName'}}\n",
      "{'material_name_instance': {'type': 'uri', 'value': 'https://stream-projekt.net/9d844b98be3f07c0a10df59c9a2876359401857f8c2b766adbde94eabba2e23d#ShortName'}}\n",
      "{'material_name_instance': {'type': 'uri', 'value': 'https://stream-projekt.net/cb301f72272314352ef709f8fd860222f8d73b38974881194342c02169383c93#ShortName'}}\n",
      "{'material_name_instance': {'type': 'uri', 'value': 'https://stream-projekt.net/407cef7c4c33fc19b18fbcaacb63b1b5a54e2f3c9464aa1ab7f571d375de7181#ShortName'}}\n",
      "{'material_name_instance': {'type': 'uri', 'value': 'https://stream-projekt.net/7b1e087edee81627af44639c589546eb6dbcd37e81927184cb711e4bdaaae211#ShortName'}}\n",
      "{'material_name_instance': {'type': 'uri', 'value': 'https://stream-projekt.net/f015c338bbb8162d903957afbe6d1910894a3b6e966cbc66cc972de9a8647231#ShortName'}}\n",
      "{'material_name_instance': {'type': 'uri', 'value': 'https://stream-projekt.net/579ce1683043a333051fd3f16b041ff3720852ac17a9aa0af8858e5eba646653#ShortName'}}\n",
      "{'material_name_instance': {'type': 'uri', 'value': 'https://stream-projekt.net/d65e9f5966bd5ae14395d12f3cdec5741d05e0bade5ad9765b32f1547cb459c4#ShortName'}}\n",
      "{'material_name_instance': {'type': 'uri', 'value': 'https://stream-projekt.net/5fbb6d44c38f95a5c5e8da67748561a3230944bc1838d3bf8b9c063fd2ca365b#ShortName'}}\n",
      "{'material_name_instance': {'type': 'uri', 'value': 'https://stream-projekt.net/8c9132ab9e86d3ae6174bdd2b7141821272c76150187092a48dbb3d1b03f2bae#ShortName'}}\n",
      "{'material_name_instance': {'type': 'uri', 'value': 'https://stream-projekt.net/f3fe5269379c6a72e03e08817fbc4cdafbb17d0d92d810f38098d844da48497a#ShortName'}}\n",
      "{'material_name_instance': {'type': 'uri', 'value': 'https://stream-projekt.net/f19cbb7464b4898af7a920e975fb6729310a81acf03c463710eae4964e8c1d75#ShortName'}}\n",
      "{'material_name_instance': {'type': 'uri', 'value': 'https://stream-projekt.net/4c8f6f3aed12f8cef765cda843001d7e04f17eb3e62a8aea7e7ec7b5920c2733#ShortName'}}\n",
      "{'material_name_instance': {'type': 'uri', 'value': 'https://stream-projekt.net/e631b8dcffe87f1fb57adee1a0d430b35886c7a6712c3a8f37f2694c6f4461a0#ShortName'}}\n"
     ]
    }
   ],
   "source": [
    "sparql = SPARQLWrapper(\n",
    "    \"http://vm188067-l3s.hosting.uni-hannover.de:7200/repositories/Dsms\"\n",
    ")\n",
    "sparql.setReturnFormat(JSON)\n",
    "\n",
    "# gets the first 3 geological ages\n",
    "# from a Geological Timescale database,\n",
    "# via a SPARQL endpoint\n",
    "sparql.setQuery(\"\"\"\n",
    "        PREFIX rdf: <http://www.w3.org/1999/02/22-rdf-syntax-ns#>\n",
    "        PREFIX owl: <http://www.w3.org/2002/07/owl#>\n",
    "        PREFIX matvoc: <http://stream-ontology.com/matvoc-core/>\n",
    "\n",
    "        select ?material_name_instance where { \n",
    "            ?material_name_instance rdf:type matvoc:Formula;\n",
    "                    ?data_property ?material_name.\n",
    "            ?data_property rdf:type owl:DatatypeProperty.\n",
    "        } limit 100 \n",
    "    \"\"\"\n",
    ")\n",
    "print(\"Query successfull\")\n",
    "\n",
    "try:\n",
    "    print(\"try\")\n",
    "    ret = sparql.queryAndConvert()\n",
    "    print(\"convert\")\n",
    "    for r in ret[\"results\"][\"bindings\"]:\n",
    "        print(r)\n",
    "except:\n",
    "    print(\"except\")"
   ]
  },
  {
   "cell_type": "code",
   "execution_count": null,
   "id": "0b3cf798",
   "metadata": {},
   "outputs": [],
   "source": []
  },
  {
   "cell_type": "code",
   "execution_count": 26,
   "id": "0a51b10a",
   "metadata": {},
   "outputs": [
    {
     "ename": "TypeError",
     "evalue": "SPARQLWrapper.query() takes 1 positional argument but 2 were given",
     "output_type": "error",
     "traceback": [
      "\u001b[1;31m---------------------------------------------------------------------------\u001b[0m",
      "\u001b[1;31mTypeError\u001b[0m                                 Traceback (most recent call last)",
      "Input \u001b[1;32mIn [26]\u001b[0m, in \u001b[0;36m<cell line: 10>\u001b[1;34m()\u001b[0m\n\u001b[0;32m      1\u001b[0m sparql \u001b[38;5;241m=\u001b[39m SPARQLWrapper(\n\u001b[0;32m      2\u001b[0m     \u001b[38;5;124m\"\u001b[39m\u001b[38;5;124mhttp://vocabs.ardc.edu.au/repository/api/sparql/\u001b[39m\u001b[38;5;124m\"\u001b[39m\n\u001b[0;32m      3\u001b[0m     \u001b[38;5;124m\"\u001b[39m\u001b[38;5;124mcsiro_international-chronostratigraphic-chart_geologic-time-scale-2020\u001b[39m\u001b[38;5;124m\"\u001b[39m\n\u001b[0;32m      4\u001b[0m )\n\u001b[0;32m      7\u001b[0m \u001b[38;5;66;03m# gets the first 3 geological ages\u001b[39;00m\n\u001b[0;32m      8\u001b[0m \u001b[38;5;66;03m# from a Geological Timescale database,\u001b[39;00m\n\u001b[0;32m      9\u001b[0m \u001b[38;5;66;03m# via a SPARQL endpoint\u001b[39;00m\n\u001b[1;32m---> 10\u001b[0m ret \u001b[38;5;241m=\u001b[39m \u001b[43msparql\u001b[49m\u001b[38;5;241;43m.\u001b[39;49m\u001b[43mquery\u001b[49m\u001b[43m(\u001b[49m\u001b[38;5;124;43m\"\"\"\u001b[39;49m\n\u001b[0;32m     11\u001b[0m \u001b[38;5;124;43m    PREFIX gts: <http://resource.geosciml.org/ontology/timescale/gts#>\u001b[39;49m\n\u001b[0;32m     12\u001b[0m \n\u001b[0;32m     13\u001b[0m \u001b[38;5;124;43m    SELECT *\u001b[39;49m\n\u001b[0;32m     14\u001b[0m \u001b[38;5;124;43m    WHERE \u001b[39;49m\u001b[38;5;124;43m{\u001b[39;49m\n\u001b[0;32m     15\u001b[0m \u001b[38;5;124;43m        ?a a gts:Age .\u001b[39;49m\n\u001b[0;32m     16\u001b[0m \u001b[38;5;124;43m    }\u001b[39;49m\n\u001b[0;32m     17\u001b[0m \u001b[38;5;124;43m    ORDER BY ?a\u001b[39;49m\n\u001b[0;32m     18\u001b[0m \u001b[38;5;124;43m    LIMIT 3\u001b[39;49m\n\u001b[0;32m     19\u001b[0m \u001b[38;5;124;43m    \u001b[39;49m\u001b[38;5;124;43m\"\"\"\u001b[39;49m\n\u001b[0;32m     20\u001b[0m \u001b[43m)\u001b[49m\n",
      "\u001b[1;31mTypeError\u001b[0m: SPARQLWrapper.query() takes 1 positional argument but 2 were given"
     ]
    }
   ],
   "source": [
    "\n",
    "sparql = SPARQLWrapper(\n",
    "    \"http://vocabs.ardc.edu.au/repository/api/sparql/\"\n",
    "    \"csiro_international-chronostratigraphic-chart_geologic-time-scale-2020\"\n",
    ")\n",
    "\n",
    "\n",
    "# gets the first 3 geological ages\n",
    "# from a Geological Timescale database,\n",
    "# via a SPARQL endpoint\n",
    "ret = sparql.query(\"\"\"\n",
    "    PREFIX gts: <http://resource.geosciml.org/ontology/timescale/gts#>\n",
    "\n",
    "    SELECT *\n",
    "    WHERE {\n",
    "        ?a a gts:Age .\n",
    "    }\n",
    "    ORDER BY ?a\n",
    "    LIMIT 3\n",
    "    \"\"\"\n",
    ")\n",
    "\n"
   ]
  },
  {
   "cell_type": "code",
   "execution_count": 22,
   "id": "8e44d11f",
   "metadata": {},
   "outputs": [
    {
     "data": {
      "text/plain": [
       "NoneType"
      ]
     },
     "execution_count": 22,
     "metadata": {},
     "output_type": "execute_result"
    }
   ],
   "source": [
    "type(result)"
   ]
  },
  {
   "cell_type": "code",
   "execution_count": null,
   "id": "9d0ce110",
   "metadata": {},
   "outputs": [],
   "source": []
  }
 ],
 "metadata": {
  "kernelspec": {
   "display_name": "graphdb-env",
   "language": "python",
   "name": "graphdb-env"
  },
  "language_info": {
   "codemirror_mode": {
    "name": "ipython",
    "version": 3
   },
   "file_extension": ".py",
   "mimetype": "text/x-python",
   "name": "python",
   "nbconvert_exporter": "python",
   "pygments_lexer": "ipython3",
   "version": "3.10.6"
  }
 },
 "nbformat": 4,
 "nbformat_minor": 5
}
