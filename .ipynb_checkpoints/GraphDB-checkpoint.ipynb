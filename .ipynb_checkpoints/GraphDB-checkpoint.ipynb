{
 "cells": [
  {
   "cell_type": "code",
   "execution_count": 1,
   "id": "df8e3851",
   "metadata": {},
   "outputs": [],
   "source": [
    "from SPARQLWrapper import SPARQLWrapper, JSON, CSV\n",
    "import pandas as pd"
   ]
  },
  {
   "cell_type": "code",
   "execution_count": 2,
   "id": "d428397e",
   "metadata": {},
   "outputs": [],
   "source": [
    "# Method for executing and printing the query\n",
    "def start_query():\n",
    "    try:\n",
    "        # start querie and conversion\n",
    "        ret = sparql.queryAndConvert()\n",
    "\n",
    "        # bring result to pandas df\n",
    "        df = pd.json_normalize(ret[\"results\"][\"bindings\"])\n",
    "\n",
    "        # format df\n",
    "        col_names=df.columns.values #get column names\n",
    "        col_values = [] #create list for relevant columns\n",
    "        for i in col_names:\n",
    "            if \"value\" in i:   #filter for column names with value in the name (this are the relevant)\n",
    "                col_values.append(i) #add to the created list\n",
    "        sparql_result = df[col_values] #new df with just the relevant columns\n",
    "\n",
    "        print(sparql_result)\n",
    "\n",
    "    except:\n",
    "        print(\"except\")"
   ]
  },
  {
   "cell_type": "code",
   "execution_count": 29,
   "id": "e0e0bb9b",
   "metadata": {},
   "outputs": [
    {
     "name": "stdout",
     "output_type": "stream",
     "text": [
      "                        material_name_instance.value material_name.value\n",
      "0  https://stream-projekt.net/ea2b3bdd5ced355cbcc...            AlSi10Mg\n",
      "1  https://stream-projekt.net/ce82267cc22098ad4d2...            AlSi10Mg\n",
      "2  https://stream-projekt.net/9f282f00ec2b1bab5f1...            AlSi10Mg\n",
      "3  https://stream-projekt.net/9d844b98be3f07c0a10...            AlSi10Mg\n",
      "4  https://stream-projekt.net/cb301f72272314352ef...            AlSi10Mg\n"
     ]
    }
   ],
   "source": [
    "sparql = SPARQLWrapper(\n",
    "    \"http://vm188067-l3s.hosting.uni-hannover.de:7200/repositories/Dsms\"\n",
    ")\n",
    "sparql.setReturnFormat(JSON)\n",
    "\n",
    "sparql.setQuery(\"\"\"\n",
    "        PREFIX rdf: <http://www.w3.org/1999/02/22-rdf-syntax-ns#>\n",
    "        PREFIX owl: <http://www.w3.org/2002/07/owl#>\n",
    "        PREFIX matvoc: <http://stream-ontology.com/matvoc-core/>\n",
    "\n",
    "        select ?material_name_instance ?material_name where { \n",
    "            ?material_name_instance rdf:type matvoc:Formula;\n",
    "                    ?data_property ?material_name.\n",
    "            ?data_property rdf:type owl:DatatypeProperty.\n",
    "        } limit 5 \n",
    "    \"\"\"\n",
    ")\n",
    "\n",
    "start_query()"
   ]
  },
  {
   "cell_type": "markdown",
   "id": "c0bc0f75",
   "metadata": {},
   "source": [
    "# 1. Tensile Test"
   ]
  },
  {
   "cell_type": "markdown",
   "id": "cfee60bf",
   "metadata": {},
   "source": [
    "## 1.1 What is the measured \"Maximum Tensile Strength\" of the given material \"CuCrZr\"?\n",
    "\n",
    "Querying for a MeasuredQuantitativeProperty of a specific Measurement (Filtered by known TestID or unique Material). All given values, no calculation or aggregation needed."
   ]
  },
  {
   "cell_type": "code",
   "execution_count": 39,
   "id": "94ddfe2a",
   "metadata": {},
   "outputs": [
    {
     "name": "stdout",
     "output_type": "stream",
     "text": [
      "  tensile_strength.value material_name.value\n",
      "0               2.01e+02            AlSi10Mg\n"
     ]
    }
   ],
   "source": [
    "sparql = SPARQLWrapper(\n",
    "    \"http://vm188067-l3s.hosting.uni-hannover.de:7200/repositories/Dsms\"\n",
    ")\n",
    "sparql.setReturnFormat(JSON)\n",
    "\n",
    "sparql.setQuery(\"\"\"\n",
    "        PREFIX rdf: <http://www.w3.org/1999/02/22-rdf-syntax-ns#>\n",
    "        PREFIX owl: <http://www.w3.org/2002/07/owl#>\n",
    "        PREFIX matvoc: <http://stream-ontology.com/matvoc-core/>\n",
    "        PREFIX mech: <http://emmo.info/emmo/domain/mechanical-testing#>\n",
    "        PREFIX emmo: <http://emmo.info/emmo#>\n",
    "        PREFIX skos: <http://www.w3.org/2004/02/skos/core#>\n",
    "\n",
    "        select ?tensile_strength ?material_name where { \n",
    "        \n",
    "        ?tensile_strength_instance rdf:type mech:EMMO_926d14c7_4f78_4c37_99b4_dfb0a531db64; \n",
    "            emmo:EMMO_8ef3cd6d_ae58_4a8d_9fc0_ad8f49015cd0 ?value_instance.\n",
    "        ?value_instance emmo:EMMO_faf79f53_749d_40b2_807c_d34244c192f4 ?tensile_strength .\n",
    "        \n",
    "        ?measurement_instance emmo:hasMeasurementResult ?tensile_strength_instance ;\n",
    "            emmo:hasProcessInput ?specimen_instance .\n",
    "        \n",
    "        ?specimen_instance emmo:EMMO_e1097637_70d2_4895_973f_2396f04fa204 ?material_name_instance .\n",
    "        \n",
    "        ?material_name_instance rdf:type mech:EMMO_71200c24_44fe_4533_96be_55ecb299681c ;\n",
    "            emmo:EMMO_23b579e1_8088_45b5_9975_064014026c42 ?material_name .\n",
    "        \n",
    "        FILTER(?material_name = \"AlSi10Mg\")\n",
    "        \n",
    "        \n",
    "        } \n",
    "        ORDER BY DESC(?tensile_strength) \n",
    "        LIMIT 1\n",
    "    \"\"\"\n",
    ")\n",
    "\n",
    "start_query()"
   ]
  },
  {
   "cell_type": "markdown",
   "id": "7ebe9ac0",
   "metadata": {},
   "source": [
    "## 1.2 What is the maximum measured \"Tensile Strength\" of all \"CuCrZr\" samples?\n",
    "Querying for a MeasuredQuantitativeProperty out of all tested specimens made of a specific Material. Aggregate for the maximum value.\n"
   ]
  },
  {
   "cell_type": "code",
   "execution_count": null,
   "id": "911a5444",
   "metadata": {},
   "outputs": [],
   "source": []
  },
  {
   "cell_type": "markdown",
   "id": "2cc90a6c",
   "metadata": {},
   "source": [
    "## 1.3 Which Material has the highest measured Value Rp02?\n",
    "Querying for a MeasuredQuantitativeProperty out of all entrys in the database. Aggregate for the maximum value."
   ]
  },
  {
   "cell_type": "code",
   "execution_count": null,
   "id": "4db477a8",
   "metadata": {},
   "outputs": [],
   "source": []
  },
  {
   "cell_type": "markdown",
   "id": "53d19167",
   "metadata": {},
   "source": [
    "## 1.4 Which datasets that have \"Tensile Strength\" values between the range X and Y?\n",
    "Querying for all Dataset with a MeasuredQuantitativeProperty in a specific range."
   ]
  },
  {
   "cell_type": "code",
   "execution_count": null,
   "id": "63571959",
   "metadata": {},
   "outputs": [],
   "source": []
  },
  {
   "cell_type": "markdown",
   "id": "5c5d6226",
   "metadata": {},
   "source": [
    "# 2. Hardness Test"
   ]
  },
  {
   "cell_type": "code",
   "execution_count": null,
   "id": "09291175",
   "metadata": {},
   "outputs": [],
   "source": []
  },
  {
   "cell_type": "code",
   "execution_count": null,
   "id": "928ea749",
   "metadata": {},
   "outputs": [],
   "source": []
  },
  {
   "cell_type": "code",
   "execution_count": null,
   "id": "b773a263",
   "metadata": {},
   "outputs": [],
   "source": []
  }
 ],
 "metadata": {
  "kernelspec": {
   "display_name": "graphdb-env",
   "language": "python",
   "name": "graphdb-env"
  },
  "language_info": {
   "codemirror_mode": {
    "name": "ipython",
    "version": 3
   },
   "file_extension": ".py",
   "mimetype": "text/x-python",
   "name": "python",
   "nbconvert_exporter": "python",
   "pygments_lexer": "ipython3",
   "version": "3.10.6"
  }
 },
 "nbformat": 4,
 "nbformat_minor": 5
}
